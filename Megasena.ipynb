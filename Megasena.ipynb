{
  "nbformat": 4,
  "nbformat_minor": 0,
  "metadata": {
    "colab": {
      "provenance": [],
      "authorship_tag": "ABX9TyMdXsWUPSXgT2HKBz2saY0a",
      "include_colab_link": true
    },
    "kernelspec": {
      "name": "python3",
      "display_name": "Python 3"
    },
    "language_info": {
      "name": "python"
    }
  },
  "cells": [
    {
      "cell_type": "markdown",
      "metadata": {
        "id": "view-in-github",
        "colab_type": "text"
      },
      "source": [
        "<a href=\"https://colab.research.google.com/github/luizaraujo/Analise_de_Dados/blob/main/Megasena.ipynb\" target=\"_parent\"><img src=\"https://colab.research.google.com/assets/colab-badge.svg\" alt=\"Open In Colab\"/></a>"
      ]
    },
    {
      "cell_type": "code",
      "execution_count": 11,
      "metadata": {
        "id": "IoHlcdIX2OhW"
      },
      "outputs": [],
      "source": []
    },
    {
      "cell_type": "code",
      "source": [
        "num = int(input('Digite um Número: '))\n",
        "print('O número digitado foi {}'.format(num))\n",
        "print('O dobro de {} vale {}'.format(num, (num*2)))\n",
        "print('O triplo de {} vale {}'.format(num, (num*3)))\n",
        "print('A raiz quadrada de {} é igual a {:.2f}'.format(num, (num**(1/2))))"
      ],
      "metadata": {
        "colab": {
          "base_uri": "https://localhost:8080/"
        },
        "id": "prVytjpX2UIK",
        "outputId": "dab17b15-0fdf-429a-dbbb-fa27d094170f"
      },
      "execution_count": 12,
      "outputs": [
        {
          "output_type": "stream",
          "name": "stdout",
          "text": [
            "Digite um Número: 12\n",
            "O número digitado foi 12\n",
            "O dobro de 12 vale 24\n",
            "O triplo de 12 vale 36\n",
            "A raiz quadrada de 12 é igual a 3.46\n"
          ]
        }
      ]
    },
    {
      "cell_type": "code",
      "metadata": {
        "colab": {
          "base_uri": "https://localhost:8080/"
        },
        "id": "6450d56f",
        "outputId": "624e9f5e-d4ab-413f-d4f0-d8ad4bdc9a29"
      },
      "source": [
        "# @title Texto de título padrão\n",
        "import random  # Importa a biblioteca random, que é necessária para gerar números aleatórios.\n",
        "\n",
        "num_jogos = int(input('Quantos jogos você quer fazer na Mega-Sena? '))  #Pede ao usuário para digitar quantos jogos ele deseja gerar e armazena esse valor na variável num_jogos. O int() converte a entrada (que é texto) para um número inteiro.\n",
        "\n",
        "for jogo in range(num_jogos):  # Inicia um loop que vai rodar o número de vezes que o usuário especificou em num_jogos. A cada volta do loop, a variável jogo representa o número do jogo atual (começando de 0).\n",
        "  dezenas = []   # Dentro de cada loop de jogo, cria uma lista vazia chamada dezenas para armazenar as 6 dezenas do jogo atual.\n",
        "  print(f'\\nJogo {jogo + 1}:')  # Imprime o número do jogo atual (adicionando 1 a jogo para que comece de 1 em vez de 0). O \\n cria uma linha em branco antes de cada jogo para melhor organização.\n",
        "  while len(dezenas) < 6:   #  Inicia um loop interno que continua rodando enquanto a lista dezenas tiver menos de 6 números.\n",
        "    dezena = random.randint(1, 60)   # Gera um número inteiro aleatório entre 1 e 60 e armazena na variável dezena.\n",
        "    if dezena not in dezenas:   # Verifica se o número gerado (dezena) já existe na lista dezenas. Isso garante que não haja números repetidos no mesmo jogo\n",
        "      dezenas.append(dezena)   # Se o número gerado não for repetido, ele é adicionado à lista dezenas.\n",
        "  dezenas.sort() # Opcional: ordenar as dezenas\n",
        "  print(dezenas) #  Imprime a lista de dezenas geradas para o jogo atual.\n"
      ],
      "execution_count": 13,
      "outputs": [
        {
          "output_type": "stream",
          "name": "stdout",
          "text": [
            "Quantos jogos você quer fazer na Mega-Sena? 10\n",
            "\n",
            "Jogo 1:\n",
            "[7, 12, 13, 22, 29, 59]\n",
            "\n",
            "Jogo 2:\n",
            "[19, 22, 25, 26, 29, 54]\n",
            "\n",
            "Jogo 3:\n",
            "[7, 24, 26, 42, 44, 48]\n",
            "\n",
            "Jogo 4:\n",
            "[15, 17, 22, 34, 38, 45]\n",
            "\n",
            "Jogo 5:\n",
            "[8, 9, 23, 37, 40, 60]\n",
            "\n",
            "Jogo 6:\n",
            "[16, 18, 21, 29, 31, 32]\n",
            "\n",
            "Jogo 7:\n",
            "[9, 10, 30, 36, 37, 59]\n",
            "\n",
            "Jogo 8:\n",
            "[2, 4, 5, 12, 30, 31]\n",
            "\n",
            "Jogo 9:\n",
            "[1, 2, 31, 33, 46, 47]\n",
            "\n",
            "Jogo 10:\n",
            "[15, 19, 20, 22, 51, 58]\n"
          ]
        }
      ]
    }
  ]
}